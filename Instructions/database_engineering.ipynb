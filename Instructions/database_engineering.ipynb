{
 "cells": [
  {
   "cell_type": "code",
   "execution_count": 1,
   "metadata": {},
   "outputs": [],
   "source": [
    "# import dependencies# impor \n",
    "import pandas as pd\n"
   ]
  },
  {
   "cell_type": "code",
   "execution_count": 4,
   "metadata": {},
   "outputs": [
    {
     "data": {
      "text/html": [
       "<div>\n",
       "<style scoped>\n",
       "    .dataframe tbody tr th:only-of-type {\n",
       "        vertical-align: middle;\n",
       "    }\n",
       "\n",
       "    .dataframe tbody tr th {\n",
       "        vertical-align: top;\n",
       "    }\n",
       "\n",
       "    .dataframe thead th {\n",
       "        text-align: right;\n",
       "    }\n",
       "</style>\n",
       "<table border=\"1\" class=\"dataframe\">\n",
       "  <thead>\n",
       "    <tr style=\"text-align: right;\">\n",
       "      <th></th>\n",
       "      <th>station</th>\n",
       "      <th>date</th>\n",
       "      <th>prcp</th>\n",
       "      <th>tobs</th>\n",
       "    </tr>\n",
       "  </thead>\n",
       "  <tbody>\n",
       "    <tr>\n",
       "      <th>0</th>\n",
       "      <td>USC00519397</td>\n",
       "      <td>2010-01-01</td>\n",
       "      <td>0.08</td>\n",
       "      <td>65</td>\n",
       "    </tr>\n",
       "    <tr>\n",
       "      <th>1</th>\n",
       "      <td>USC00519397</td>\n",
       "      <td>2010-01-02</td>\n",
       "      <td>0.00</td>\n",
       "      <td>63</td>\n",
       "    </tr>\n",
       "    <tr>\n",
       "      <th>2</th>\n",
       "      <td>USC00519397</td>\n",
       "      <td>2010-01-03</td>\n",
       "      <td>0.00</td>\n",
       "      <td>74</td>\n",
       "    </tr>\n",
       "    <tr>\n",
       "      <th>3</th>\n",
       "      <td>USC00519397</td>\n",
       "      <td>2010-01-04</td>\n",
       "      <td>0.00</td>\n",
       "      <td>76</td>\n",
       "    </tr>\n",
       "    <tr>\n",
       "      <th>4</th>\n",
       "      <td>USC00519397</td>\n",
       "      <td>2010-01-06</td>\n",
       "      <td>0.00</td>\n",
       "      <td>73</td>\n",
       "    </tr>\n",
       "  </tbody>\n",
       "</table>\n",
       "</div>"
      ],
      "text/plain": [
       "       station        date  prcp  tobs\n",
       "0  USC00519397  2010-01-01  0.08    65\n",
       "1  USC00519397  2010-01-02  0.00    63\n",
       "2  USC00519397  2010-01-03  0.00    74\n",
       "3  USC00519397  2010-01-04  0.00    76\n",
       "4  USC00519397  2010-01-06  0.00    73"
      ]
     },
     "execution_count": 4,
     "metadata": {},
     "output_type": "execute_result"
    }
   ],
   "source": [
    "# Save file path to variable\n",
    "csv_measurements = \"Resources/clean_hawaii_measurements.csv\"\n",
    "# Read with Pandas\n",
    "df_measurements = pd.read_csv(csv_measurements)\n",
    "df_measurements.head()\n"
   ]
  },
  {
   "cell_type": "code",
   "execution_count": 5,
   "metadata": {},
   "outputs": [
    {
     "data": {
      "text/html": [
       "<div>\n",
       "<style scoped>\n",
       "    .dataframe tbody tr th:only-of-type {\n",
       "        vertical-align: middle;\n",
       "    }\n",
       "\n",
       "    .dataframe tbody tr th {\n",
       "        vertical-align: top;\n",
       "    }\n",
       "\n",
       "    .dataframe thead th {\n",
       "        text-align: right;\n",
       "    }\n",
       "</style>\n",
       "<table border=\"1\" class=\"dataframe\">\n",
       "  <thead>\n",
       "    <tr style=\"text-align: right;\">\n",
       "      <th></th>\n",
       "      <th>station</th>\n",
       "      <th>name</th>\n",
       "      <th>latitude</th>\n",
       "      <th>longitude</th>\n",
       "      <th>elevation</th>\n",
       "    </tr>\n",
       "  </thead>\n",
       "  <tbody>\n",
       "    <tr>\n",
       "      <th>0</th>\n",
       "      <td>USC00519397</td>\n",
       "      <td>WAIKIKI 717.2, HI US</td>\n",
       "      <td>21.27160</td>\n",
       "      <td>-157.81680</td>\n",
       "      <td>3.0</td>\n",
       "    </tr>\n",
       "    <tr>\n",
       "      <th>1</th>\n",
       "      <td>USC00513117</td>\n",
       "      <td>KANEOHE 838.1, HI US</td>\n",
       "      <td>21.42340</td>\n",
       "      <td>-157.80150</td>\n",
       "      <td>14.6</td>\n",
       "    </tr>\n",
       "    <tr>\n",
       "      <th>2</th>\n",
       "      <td>USC00514830</td>\n",
       "      <td>KUALOA RANCH HEADQUARTERS 886.9, HI US</td>\n",
       "      <td>21.52130</td>\n",
       "      <td>-157.83740</td>\n",
       "      <td>7.0</td>\n",
       "    </tr>\n",
       "    <tr>\n",
       "      <th>3</th>\n",
       "      <td>USC00517948</td>\n",
       "      <td>PEARL CITY, HI US</td>\n",
       "      <td>21.39340</td>\n",
       "      <td>-157.97510</td>\n",
       "      <td>11.9</td>\n",
       "    </tr>\n",
       "    <tr>\n",
       "      <th>4</th>\n",
       "      <td>USC00518838</td>\n",
       "      <td>UPPER WAHIAWA 874.3, HI US</td>\n",
       "      <td>21.49920</td>\n",
       "      <td>-158.01110</td>\n",
       "      <td>306.6</td>\n",
       "    </tr>\n",
       "    <tr>\n",
       "      <th>5</th>\n",
       "      <td>USC00519523</td>\n",
       "      <td>WAIMANALO EXPERIMENTAL FARM, HI US</td>\n",
       "      <td>21.33556</td>\n",
       "      <td>-157.71139</td>\n",
       "      <td>19.5</td>\n",
       "    </tr>\n",
       "    <tr>\n",
       "      <th>6</th>\n",
       "      <td>USC00519281</td>\n",
       "      <td>WAIHEE 837.5, HI US</td>\n",
       "      <td>21.45167</td>\n",
       "      <td>-157.84889</td>\n",
       "      <td>32.9</td>\n",
       "    </tr>\n",
       "    <tr>\n",
       "      <th>7</th>\n",
       "      <td>USC00511918</td>\n",
       "      <td>HONOLULU OBSERVATORY 702.2, HI US</td>\n",
       "      <td>21.31520</td>\n",
       "      <td>-157.99920</td>\n",
       "      <td>0.9</td>\n",
       "    </tr>\n",
       "    <tr>\n",
       "      <th>8</th>\n",
       "      <td>USC00516128</td>\n",
       "      <td>MANOA LYON ARBO 785.2, HI US</td>\n",
       "      <td>21.33310</td>\n",
       "      <td>-157.80250</td>\n",
       "      <td>152.4</td>\n",
       "    </tr>\n",
       "  </tbody>\n",
       "</table>\n",
       "</div>"
      ],
      "text/plain": [
       "       station                                    name  latitude  longitude  \\\n",
       "0  USC00519397                    WAIKIKI 717.2, HI US  21.27160 -157.81680   \n",
       "1  USC00513117                    KANEOHE 838.1, HI US  21.42340 -157.80150   \n",
       "2  USC00514830  KUALOA RANCH HEADQUARTERS 886.9, HI US  21.52130 -157.83740   \n",
       "3  USC00517948                       PEARL CITY, HI US  21.39340 -157.97510   \n",
       "4  USC00518838              UPPER WAHIAWA 874.3, HI US  21.49920 -158.01110   \n",
       "5  USC00519523      WAIMANALO EXPERIMENTAL FARM, HI US  21.33556 -157.71139   \n",
       "6  USC00519281                     WAIHEE 837.5, HI US  21.45167 -157.84889   \n",
       "7  USC00511918       HONOLULU OBSERVATORY 702.2, HI US  21.31520 -157.99920   \n",
       "8  USC00516128            MANOA LYON ARBO 785.2, HI US  21.33310 -157.80250   \n",
       "\n",
       "   elevation  \n",
       "0        3.0  \n",
       "1       14.6  \n",
       "2        7.0  \n",
       "3       11.9  \n",
       "4      306.6  \n",
       "5       19.5  \n",
       "6       32.9  \n",
       "7        0.9  \n",
       "8      152.4  "
      ]
     },
     "execution_count": 5,
     "metadata": {},
     "output_type": "execute_result"
    }
   ],
   "source": [
    "# Save file path to variable\n",
    "csv_stations = \"Resources/clean_hawaii_stations.csv\"\n",
    "# Read with Pandas\n",
    "df_stations = pd.read_csv(csv_stations)\n",
    "df_stations"
   ]
  },
  {
   "cell_type": "code",
   "execution_count": 6,
   "metadata": {},
   "outputs": [],
   "source": [
    "from sqlalchemy import create_engine, Column, Integer, String, Float, Numeric\n",
    "from sqlalchemy.ext.declarative import declarative_base\n",
    "Base = declarative_base()"
   ]
  },
  {
   "cell_type": "code",
   "execution_count": 7,
   "metadata": {},
   "outputs": [],
   "source": [
    "# Define measurements table\n",
    "class measurements(Base):\n",
    "    __tablename__ = 'measurements'\n",
    "    id = Column(Integer,primary_key = True)\n",
    "    station = Column(String)\n",
    "    date = Column(String)\n",
    "    prcp = Column(Float)\n",
    "    tobs = Column(Integer)\n",
    "\n",
    "# Define stations table\n",
    "class stations(Base):\n",
    "    __tablename__ = 'stations'\n",
    "    id = Column(Integer,primary_key =True)\n",
    "    station = Column(String)\n",
    "    name = Column(String)\n",
    "    latitude = Column(String)\n",
    "    longitude = Column(String)\n",
    "    elevation = Column(String)\n"
   ]
  },
  {
   "cell_type": "code",
   "execution_count": 8,
   "metadata": {},
   "outputs": [
    {
     "data": {
      "text/plain": [
       "immutabledict({'measurements': Table('measurements', MetaData(bind=None), Column('id', Integer(), table=<measurements>, primary_key=True, nullable=False), Column('station', String(), table=<measurements>), Column('date', String(), table=<measurements>), Column('prcp', Float(), table=<measurements>), Column('tobs', Integer(), table=<measurements>), schema=None), 'stations': Table('stations', MetaData(bind=None), Column('id', Integer(), table=<stations>, primary_key=True, nullable=False), Column('station', String(), table=<stations>), Column('name', String(), table=<stations>), Column('latitude', String(), table=<stations>), Column('longitude', String(), table=<stations>), Column('elevation', String(), table=<stations>), schema=None)})"
      ]
     },
     "execution_count": 8,
     "metadata": {},
     "output_type": "execute_result"
    }
   ],
   "source": [
    "Base.metadata.tables"
   ]
  },
  {
   "cell_type": "code",
   "execution_count": 9,
   "metadata": {},
   "outputs": [],
   "source": [
    "#Create database engine\n",
    "engine = create_engine('sqlite:///hawaii.sqlite')\n",
    "#create tables in Database\n",
    "Base.metadata.create_all(engine)\n",
    "conn = engine.connect()\n"
   ]
  },
  {
   "cell_type": "code",
   "execution_count": 10,
   "metadata": {},
   "outputs": [],
   "source": [
    "df_measurements.to_sql(\"measurements\", conn, index=False,if_exists='append')\n",
    "df_stations.to_sql(\"stations\", conn, index=False,if_exists='append')"
   ]
  },
  {
   "cell_type": "code",
   "execution_count": 11,
   "metadata": {},
   "outputs": [
    {
     "data": {
      "text/plain": [
       "['measurements', 'stations']"
      ]
     },
     "execution_count": 11,
     "metadata": {},
     "output_type": "execute_result"
    }
   ],
   "source": [
    "engine.table_names()"
   ]
  },
  {
   "cell_type": "code",
   "execution_count": 12,
   "metadata": {},
   "outputs": [
    {
     "data": {
      "text/plain": [
       "[(1, 'USC00519397', '2010-01-01', 0.08, 65),\n",
       " (2, 'USC00519397', '2010-01-02', 0.0, 63),\n",
       " (3, 'USC00519397', '2010-01-03', 0.0, 74),\n",
       " (4, 'USC00519397', '2010-01-04', 0.0, 76),\n",
       " (5, 'USC00519397', '2010-01-06', 0.0, 73),\n",
       " (6, 'USC00519397', '2010-01-07', 0.06, 70),\n",
       " (7, 'USC00519397', '2010-01-08', 0.0, 64),\n",
       " (8, 'USC00519397', '2010-01-09', 0.0, 68),\n",
       " (9, 'USC00519397', '2010-01-10', 0.0, 73),\n",
       " (10, 'USC00519397', '2010-01-11', 0.01, 64),\n",
       " (11, 'USC00519397', '2010-01-12', 0.0, 61),\n",
       " (12, 'USC00519397', '2010-01-14', 0.0, 66),\n",
       " (13, 'USC00519397', '2010-01-15', 0.0, 65),\n",
       " (14, 'USC00519397', '2010-01-16', 0.0, 68),\n",
       " (15, 'USC00519397', '2010-01-17', 0.0, 64),\n",
       " (16, 'USC00519397', '2010-01-18', 0.0, 72),\n",
       " (17, 'USC00519397', '2010-01-19', 0.0, 66),\n",
       " (18, 'USC00519397', '2010-01-20', 0.0, 66),\n",
       " (19, 'USC00519397', '2010-01-21', 0.0, 69),\n",
       " (20, 'USC00519397', '2010-01-22', 0.0, 67)]"
      ]
     },
     "execution_count": 12,
     "metadata": {},
     "output_type": "execute_result"
    }
   ],
   "source": [
    "engine.execute('select * from measurements limit 20').fetchall()\n"
   ]
  },
  {
   "cell_type": "code",
   "execution_count": 13,
   "metadata": {},
   "outputs": [
    {
     "data": {
      "text/plain": [
       "[(1, 'USC00519397', 'WAIKIKI 717.2, HI US', '21.2716', '-157.8168', '3.0'),\n",
       " (2, 'USC00513117', 'KANEOHE 838.1, HI US', '21.4234', '-157.8015', '14.6'),\n",
       " (3, 'USC00514830', 'KUALOA RANCH HEADQUARTERS 886.9, HI US', '21.5213', '-157.8374', '7.0'),\n",
       " (4, 'USC00517948', 'PEARL CITY, HI US', '21.3934', '-157.9751', '11.9'),\n",
       " (5, 'USC00518838', 'UPPER WAHIAWA 874.3, HI US', '21.4992', '-158.0111', '306.6'),\n",
       " (6, 'USC00519523', 'WAIMANALO EXPERIMENTAL FARM, HI US', '21.33556', '-157.71139', '19.5'),\n",
       " (7, 'USC00519281', 'WAIHEE 837.5, HI US', '21.45167', '-157.84889', '32.9'),\n",
       " (8, 'USC00511918', 'HONOLULU OBSERVATORY 702.2, HI US', '21.3152', '-157.9992', '0.9'),\n",
       " (9, 'USC00516128', 'MANOA LYON ARBO 785.2, HI US', '21.3331', '-157.8025', '152.4'),\n",
       " (10, 'USC00519397', 'WAIKIKI 717.2, HI US', '21.2716', '-157.8168', '3.0'),\n",
       " (11, 'USC00513117', 'KANEOHE 838.1, HI US', '21.4234', '-157.8015', '14.6'),\n",
       " (12, 'USC00514830', 'KUALOA RANCH HEADQUARTERS 886.9, HI US', '21.5213', '-157.8374', '7.0'),\n",
       " (13, 'USC00517948', 'PEARL CITY, HI US', '21.3934', '-157.9751', '11.9'),\n",
       " (14, 'USC00518838', 'UPPER WAHIAWA 874.3, HI US', '21.4992', '-158.0111', '306.6'),\n",
       " (15, 'USC00519523', 'WAIMANALO EXPERIMENTAL FARM, HI US', '21.33556', '-157.71139', '19.5'),\n",
       " (16, 'USC00519281', 'WAIHEE 837.5, HI US', '21.45167', '-157.84889', '32.9'),\n",
       " (17, 'USC00511918', 'HONOLULU OBSERVATORY 702.2, HI US', '21.3152', '-157.9992', '0.9'),\n",
       " (18, 'USC00516128', 'MANOA LYON ARBO 785.2, HI US', '21.3331', '-157.8025', '152.4'),\n",
       " (19, 'USC00519397', 'WAIKIKI 717.2, HI US', '21.2716', '-157.8168', '3.0'),\n",
       " (20, 'USC00513117', 'KANEOHE 838.1, HI US', '21.4234', '-157.8015', '14.6'),\n",
       " (21, 'USC00514830', 'KUALOA RANCH HEADQUARTERS 886.9, HI US', '21.5213', '-157.8374', '7.0'),\n",
       " (22, 'USC00517948', 'PEARL CITY, HI US', '21.3934', '-157.9751', '11.9'),\n",
       " (23, 'USC00518838', 'UPPER WAHIAWA 874.3, HI US', '21.4992', '-158.0111', '306.6'),\n",
       " (24, 'USC00519523', 'WAIMANALO EXPERIMENTAL FARM, HI US', '21.33556', '-157.71139', '19.5'),\n",
       " (25, 'USC00519281', 'WAIHEE 837.5, HI US', '21.45167', '-157.84889', '32.9'),\n",
       " (26, 'USC00511918', 'HONOLULU OBSERVATORY 702.2, HI US', '21.3152', '-157.9992', '0.9'),\n",
       " (27, 'USC00516128', 'MANOA LYON ARBO 785.2, HI US', '21.3331', '-157.8025', '152.4')]"
      ]
     },
     "execution_count": 13,
     "metadata": {},
     "output_type": "execute_result"
    }
   ],
   "source": [
    "engine.execute('select * from stations').fetchall()"
   ]
  },
  {
   "cell_type": "code",
   "execution_count": null,
   "metadata": {},
   "outputs": [],
   "source": []
  },
  {
   "cell_type": "code",
   "execution_count": null,
   "metadata": {},
   "outputs": [],
   "source": []
  },
  {
   "cell_type": "code",
   "execution_count": null,
   "metadata": {},
   "outputs": [],
   "source": []
  }
 ],
 "metadata": {
  "kernelspec": {
   "display_name": "Python [default]",
   "language": "python",
   "name": "python3"
  },
  "language_info": {
   "codemirror_mode": {
    "name": "ipython",
    "version": 3
   },
   "file_extension": ".py",
   "mimetype": "text/x-python",
   "name": "python",
   "nbconvert_exporter": "python",
   "pygments_lexer": "ipython3",
   "version": "3.6.4"
  }
 },
 "nbformat": 4,
 "nbformat_minor": 2
}
